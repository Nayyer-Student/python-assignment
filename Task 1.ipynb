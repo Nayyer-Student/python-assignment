{
 "cells": [
  {
   "cell_type": "code",
   "execution_count": 3,
   "id": "acb63cdf",
   "metadata": {},
   "outputs": [
    {
     "ename": "SyntaxError",
     "evalue": "invalid syntax (4014870090.py, line 2)",
     "output_type": "error",
     "traceback": [
      "\u001b[1;36m  Input \u001b[1;32mIn [3]\u001b[1;36m\u001b[0m\n\u001b[1;33m    def__init__(self,name):\u001b[0m\n\u001b[1;37m                           ^\u001b[0m\n\u001b[1;31mSyntaxError\u001b[0m\u001b[1;31m:\u001b[0m invalid syntax\n"
     ]
    }
   ],
   "source": [
    "class Father():\n",
    "    def__init__(self,name):\n",
    "        self.name = name\n",
    "        self.height = None\n",
    "        self.skill = None\n",
    "        \n",
    "    def showSkill(self):\n",
    "        return self.age\n",
    "f1 = Father(\"father1\")"
   ]
  },
  {
   "cell_type": "code",
   "execution_count": 16,
   "id": "540cc98b",
   "metadata": {},
   "outputs": [],
   "source": [
    "class Father():\n",
    "    def __init__(self,name):\n",
    "        self.name = name\n",
    "        self.height = None\n",
    "        self.skill = None\n",
    "    \n",
    "    def showSkill(self):\n",
    "        return f\"I can teach {self.skill}\"\n",
    "    \n",
    "    def showAge(self):\n",
    "        return self.age\n",
    "\n",
    "f1 = Father(\"father1\")"
   ]
  },
  {
   "cell_type": "code",
   "execution_count": 21,
   "id": "dd2632b0",
   "metadata": {},
   "outputs": [],
   "source": [
    "class Mother():\n",
    "    def __init__(this,name):\n",
    "        this.name = name\n",
    "        this.speak = None\n",
    "        this.make = None\n",
    "        \n",
    "    def showMake(this):\n",
    "        return f\"Ican make {this.make}\"\n",
    "    \n",
    "    def showListen(this):\n",
    "        return f\"I can speak {this.make}\"\n",
    "m1 = Mother(\"mother1\")"
   ]
  },
  {
   "cell_type": "code",
   "execution_count": 7,
   "id": "e489908d",
   "metadata": {},
   "outputs": [],
   "source": [
    "class Child(Father, Mother):\n",
    "    def __init__(self,name):\n",
    "        Father.__init__(self,name)\n",
    "        Mother.__init__(self,name)\n",
    "        self.address = None\n",
    "        self.qualification = None\n",
    "        \n",
    "c1 = Child(\"child\")"
   ]
  },
  {
   "cell_type": "code",
   "execution_count": 22,
   "id": "7512ee8a",
   "metadata": {},
   "outputs": [
    {
     "name": "stdout",
     "output_type": "stream",
     "text": [
      "['height', 'name', 'showAge', 'showSkill', 'skill']\n"
     ]
    }
   ],
   "source": [
    "print(list(i for i in dir(f1) if \"__\" not in i))"
   ]
  },
  {
   "cell_type": "code",
   "execution_count": 23,
   "id": "583f5fcc",
   "metadata": {},
   "outputs": [
    {
     "name": "stdout",
     "output_type": "stream",
     "text": [
      "['make', 'name', 'showListen', 'showMake', 'speak']\n"
     ]
    }
   ],
   "source": [
    "print(list(i for i in dir(m1) if \"__\" not in i))"
   ]
  },
  {
   "cell_type": "code",
   "execution_count": 24,
   "id": "5b08356c",
   "metadata": {},
   "outputs": [
    {
     "name": "stdout",
     "output_type": "stream",
     "text": [
      "['address', 'height', 'make', 'name', 'qualification', 'showMake', 'showSkill', 'skill', 'speak']\n"
     ]
    }
   ],
   "source": [
    "print(list(i for i in dir(c1) if \"__\" not in i))"
   ]
  },
  {
   "cell_type": "code",
   "execution_count": null,
   "id": "6d5310e5",
   "metadata": {},
   "outputs": [],
   "source": []
  }
 ],
 "metadata": {
  "kernelspec": {
   "display_name": "Python 3 (ipykernel)",
   "language": "python",
   "name": "python3"
  },
  "language_info": {
   "codemirror_mode": {
    "name": "ipython",
    "version": 3
   },
   "file_extension": ".py",
   "mimetype": "text/x-python",
   "name": "python",
   "nbconvert_exporter": "python",
   "pygments_lexer": "ipython3",
   "version": "3.9.12"
  }
 },
 "nbformat": 4,
 "nbformat_minor": 5
}
