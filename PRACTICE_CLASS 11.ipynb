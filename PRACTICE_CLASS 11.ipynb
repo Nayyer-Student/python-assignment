{
 "cells": [
  {
   "cell_type": "code",
   "execution_count": 1,
   "id": "7c1e1be9",
   "metadata": {},
   "outputs": [
    {
     "name": "stdout",
     "output_type": "stream",
     "text": [
      "8\n",
      "7\n"
     ]
    }
   ],
   "source": [
    "a = 7\n",
    "def abc():\n",
    "    a = 8\n",
    "    return a\n",
    "print(abc())\n",
    "print(a)"
   ]
  },
  {
   "cell_type": "code",
   "execution_count": 3,
   "id": "4e6b00b3",
   "metadata": {},
   "outputs": [
    {
     "name": "stdout",
     "output_type": "stream",
     "text": [
      "(8, 20)\n",
      "8 20\n"
     ]
    }
   ],
   "source": [
    "a = 7\n",
    "b = 20\n",
    "def abc():\n",
    "    global a\n",
    "    a = 8\n",
    "    b = 20\n",
    "    return a, b\n",
    "print(abc())\n",
    "print(a,b)"
   ]
  },
  {
   "cell_type": "code",
   "execution_count": 5,
   "id": "210a74c6",
   "metadata": {},
   "outputs": [
    {
     "name": "stdout",
     "output_type": "stream",
     "text": [
      "\n",
      "pakistan\n",
      "zindabad\n",
      "Hello\n",
      "\n"
     ]
    }
   ],
   "source": [
    "x = \"\"\"\n",
    "pakistan\n",
    "zindabad\n",
    "Hello\n",
    "\"\"\"\n",
    "def xyz(x):\n",
    "    x = str(x)\n",
    "\n",
    "print(x)"
   ]
  },
  {
   "cell_type": "code",
   "execution_count": 6,
   "id": "6771f07e",
   "metadata": {},
   "outputs": [
    {
     "name": "stdout",
     "output_type": "stream",
     "text": [
      "XYZ\n",
      "XYZ\n"
     ]
    }
   ],
   "source": [
    "a = 7\n",
    "b = 1\n",
    "z = \"XYZ\"\n",
    "def abc():\n",
    "    \n",
    "    return z\n",
    "print(abc())\n",
    "print(z)\n"
   ]
  },
  {
   "cell_type": "code",
   "execution_count": 7,
   "id": "b63be0fd",
   "metadata": {},
   "outputs": [
    {
     "name": "stdout",
     "output_type": "stream",
     "text": [
      "(8, 20, 'Pakistan')\n",
      "7 1\n"
     ]
    }
   ],
   "source": [
    "a = 7\n",
    "b = 1\n",
    "z = \"XYZ\"\n",
    "def abc():\n",
    "    a = 8\n",
    "    b = 20\n",
    "    global c\n",
    "    c = \"Pakistan\"\n",
    "    return a, b, c\n",
    "print(abc())\n",
    "print(a,b)"
   ]
  },
  {
   "cell_type": "code",
   "execution_count": 12,
   "id": "2a75fac0",
   "metadata": {},
   "outputs": [
    {
     "name": "stdout",
     "output_type": "stream",
     "text": [
      "8\n",
      "8\n"
     ]
    }
   ],
   "source": [
    "a = 7\n",
    "\n",
    "z = \"XYZ\"\n",
    "def abc():\n",
    "    global a\n",
    "    a = 8\n",
    "    return a\n",
    "def xyz():\n",
    "    return a\n",
    "    \n",
    "print(abc())\n",
    "print(xyz())"
   ]
  },
  {
   "cell_type": "code",
   "execution_count": 14,
   "id": "cd0e1066",
   "metadata": {},
   "outputs": [
    {
     "data": {
      "text/plain": [
       "7"
      ]
     },
     "execution_count": 14,
     "metadata": {},
     "output_type": "execute_result"
    }
   ],
   "source": [
    "5 +2"
   ]
  },
  {
   "cell_type": "code",
   "execution_count": 15,
   "id": "cae52b5c",
   "metadata": {},
   "outputs": [
    {
     "name": "stdout",
     "output_type": "stream",
     "text": [
      "Hello Nayyer\n"
     ]
    }
   ],
   "source": [
    "print('Hello Nayyer')"
   ]
  },
  {
   "cell_type": "code",
   "execution_count": 16,
   "id": "995ff57e",
   "metadata": {},
   "outputs": [
    {
     "name": "stdout",
     "output_type": "stream",
     "text": [
      "2004\n"
     ]
    }
   ],
   "source": [
    "print(2004)"
   ]
  },
  {
   "cell_type": "code",
   "execution_count": 17,
   "id": "189aa3c0",
   "metadata": {},
   "outputs": [
    {
     "name": "stdout",
     "output_type": "stream",
     "text": [
      "3.1415\n"
     ]
    }
   ],
   "source": [
    "print(3.1415)"
   ]
  },
  {
   "cell_type": "code",
   "execution_count": 18,
   "id": "5026268b",
   "metadata": {},
   "outputs": [
    {
     "name": "stdout",
     "output_type": "stream",
     "text": [
      "2004\n"
     ]
    }
   ],
   "source": [
    "x = 2004\n",
    "print(x)"
   ]
  },
  {
   "cell_type": "code",
   "execution_count": 19,
   "id": "26267e22",
   "metadata": {},
   "outputs": [
    {
     "name": "stdout",
     "output_type": "stream",
     "text": [
      "2004 <class 'int'>\n"
     ]
    }
   ],
   "source": [
    "x = 2004\n",
    "print(x, type(x))"
   ]
  },
  {
   "cell_type": "code",
   "execution_count": 20,
   "id": "6dbbe51a",
   "metadata": {},
   "outputs": [
    {
     "name": "stdout",
     "output_type": "stream",
     "text": [
      "3.1415 <class 'float'>\n"
     ]
    }
   ],
   "source": [
    "y = 3.1415\n",
    "print(y, type(y))"
   ]
  },
  {
   "cell_type": "code",
   "execution_count": 23,
   "id": "11c27f98",
   "metadata": {},
   "outputs": [
    {
     "name": "stdout",
     "output_type": "stream",
     "text": [
      "3.1415 <class 'float'>\n"
     ]
    }
   ],
   "source": [
    "y = 3.1415\n",
    "print(y, type(y))"
   ]
  },
  {
   "cell_type": "code",
   "execution_count": 24,
   "id": "0350db26",
   "metadata": {},
   "outputs": [
    {
     "name": "stdout",
     "output_type": "stream",
     "text": [
      "1000 3.1415 6.25\n"
     ]
    }
   ],
   "source": [
    "print(1000, 3.1415, 25/4)"
   ]
  },
  {
   "cell_type": "code",
   "execution_count": 25,
   "id": "d3ada92a",
   "metadata": {},
   "outputs": [
    {
     "name": "stdout",
     "output_type": "stream",
     "text": [
      "AB 3.145 Ali\n"
     ]
    }
   ],
   "source": [
    "print(\"AB\", 3.145, 'Ali')"
   ]
  },
  {
   "cell_type": "code",
   "execution_count": 26,
   "id": "d381af03",
   "metadata": {},
   "outputs": [
    {
     "name": "stdout",
     "output_type": "stream",
     "text": [
      "76\n"
     ]
    }
   ],
   "source": [
    "a = 20\n",
    "b = 56\n",
    "print(a+b)"
   ]
  },
  {
   "cell_type": "code",
   "execution_count": 27,
   "id": "2a720d6c",
   "metadata": {},
   "outputs": [
    {
     "name": "stdout",
     "output_type": "stream",
     "text": [
      "-36\n"
     ]
    }
   ],
   "source": [
    "a = 20\n",
    "b = 56\n",
    "print(a-b)"
   ]
  },
  {
   "cell_type": "code",
   "execution_count": 28,
   "id": "90ca628e",
   "metadata": {},
   "outputs": [
    {
     "name": "stdout",
     "output_type": "stream",
     "text": [
      "0.35714285714285715\n"
     ]
    }
   ],
   "source": [
    "a = 20\n",
    "b = 56\n",
    "print(a/b)"
   ]
  },
  {
   "cell_type": "code",
   "execution_count": 29,
   "id": "d004b57d",
   "metadata": {},
   "outputs": [
    {
     "name": "stdout",
     "output_type": "stream",
     "text": [
      "0\n"
     ]
    }
   ],
   "source": [
    "a = 20\n",
    "b = 56\n",
    "print(a//b)"
   ]
  },
  {
   "cell_type": "code",
   "execution_count": 30,
   "id": "46d9673a",
   "metadata": {},
   "outputs": [
    {
     "name": "stdout",
     "output_type": "stream",
     "text": [
      "20\n"
     ]
    }
   ],
   "source": [
    "a = 20\n",
    "b = 56\n",
    "print(a%b)"
   ]
  },
  {
   "cell_type": "code",
   "execution_count": 31,
   "id": "4687e436",
   "metadata": {},
   "outputs": [
    {
     "name": "stdout",
     "output_type": "stream",
     "text": [
      "0\n"
     ]
    }
   ],
   "source": [
    "a = 20\n",
    "b = 5\n",
    "print(a%b)"
   ]
  },
  {
   "cell_type": "code",
   "execution_count": 32,
   "id": "4995987c",
   "metadata": {},
   "outputs": [
    {
     "name": "stdout",
     "output_type": "stream",
     "text": [
      "4\n"
     ]
    }
   ],
   "source": [
    "a = 20\n",
    "b = 5\n",
    "print(a//b)"
   ]
  },
  {
   "cell_type": "code",
   "execution_count": 33,
   "id": "5f8d09b2",
   "metadata": {},
   "outputs": [
    {
     "name": "stdout",
     "output_type": "stream",
     "text": [
      "4.0\n"
     ]
    }
   ],
   "source": [
    "a = 20\n",
    "b = 5\n",
    "print(a/b)"
   ]
  },
  {
   "cell_type": "code",
   "execution_count": 34,
   "id": "2ea378a1",
   "metadata": {},
   "outputs": [
    {
     "ename": "SyntaxError",
     "evalue": "invalid syntax (866739786.py, line 1)",
     "output_type": "error",
     "traceback": [
      "\u001b[1;36m  Input \u001b[1;32mIn [34]\u001b[1;36m\u001b[0m\n\u001b[1;33m    num 1 = 50\u001b[0m\n\u001b[1;37m        ^\u001b[0m\n\u001b[1;31mSyntaxError\u001b[0m\u001b[1;31m:\u001b[0m invalid syntax\n"
     ]
    }
   ],
   "source": [
    "num 1 = 50\n",
    "nuim 2 = 23\n",
    "print(num1 + num2)"
   ]
  },
  {
   "cell_type": "code",
   "execution_count": 36,
   "id": "d4aed159",
   "metadata": {},
   "outputs": [
    {
     "name": "stdout",
     "output_type": "stream",
     "text": [
      "5023\n"
     ]
    }
   ],
   "source": [
    "a = '50'\n",
    "b = '23'\n",
    "print(a+b)"
   ]
  },
  {
   "cell_type": "code",
   "execution_count": 37,
   "id": "43f841ef",
   "metadata": {},
   "outputs": [
    {
     "name": "stdout",
     "output_type": "stream",
     "text": [
      "73\n"
     ]
    }
   ],
   "source": [
    "a = 50\n",
    "b = 23\n",
    "print(a+b)"
   ]
  },
  {
   "cell_type": "markdown",
   "id": "326e6ece",
   "metadata": {},
   "source": [
    "# if Statetment"
   ]
  },
  {
   "cell_type": "code",
   "execution_count": 40,
   "id": "021deb35",
   "metadata": {},
   "outputs": [
    {
     "name": "stdout",
     "output_type": "stream",
     "text": [
      "True\n",
      "Hello a\n",
      "Hello b\n",
      "Pakistan Zindabad\n"
     ]
    }
   ],
   "source": [
    "a =100\n",
    "b =200\n",
    "\n",
    "if a<b:\n",
    "    print(True)\n",
    "    print(\"Hello a\")\n",
    "    print(\"Hello b\")\n",
    "    print(\"Pakistan Zindabad\")\n"
   ]
  },
  {
   "cell_type": "code",
   "execution_count": 44,
   "id": "2b3d4464",
   "metadata": {},
   "outputs": [
    {
     "name": "stdout",
     "output_type": "stream",
     "text": [
      "True\n",
      "Hello a\n",
      "Hello b\n",
      "Pakistan Zindabad\n",
      "Hello Python\n"
     ]
    }
   ],
   "source": [
    "a =100\n",
    "b =200\n",
    "\n",
    "if a<b:\n",
    "    print(True)\n",
    "    print(\"Hello a\")\n",
    "    print(\"Hello b\")\n",
    "    print(\"Pakistan Zindabad\")\n",
    "print(\"Hello Python\")\n"
   ]
  },
  {
   "cell_type": "code",
   "execution_count": 45,
   "id": "0386b0c8",
   "metadata": {},
   "outputs": [
    {
     "name": "stdout",
     "output_type": "stream",
     "text": [
      "True\n",
      "Hello a\n",
      "Hello b\n",
      "Pakistan Zindabad\n",
      "Hello Python\n"
     ]
    }
   ],
   "source": [
    "a =100\n",
    "b =200\n",
    "\n",
    "if a<b:\n",
    "    print(True)\n",
    "    print(\"Hello a\")\n",
    "    print(\"Hello b\")\n",
    "    print(\"Pakistan Zindabad\")\n",
    "print(\"Hello Python\")\n",
    "\n",
    "if b<a:\n",
    "    print(\"b is less than a\")"
   ]
  },
  {
   "cell_type": "code",
   "execution_count": 46,
   "id": "723c5cce",
   "metadata": {},
   "outputs": [],
   "source": [
    "a =100\n",
    "b =200\n",
    "\n",
    "if b<a:\n",
    "    print(\"b is less than a\")"
   ]
  },
  {
   "cell_type": "code",
   "execution_count": 47,
   "id": "53239850",
   "metadata": {},
   "outputs": [],
   "source": [
    "alist = [\"Nasir\", \"Ali\", \"Faisal\"]"
   ]
  },
  {
   "cell_type": "code",
   "execution_count": 48,
   "id": "6925a752",
   "metadata": {},
   "outputs": [
    {
     "data": {
      "text/plain": [
       "['Nasir', 'Ali', 'Faisal']"
      ]
     },
     "execution_count": 48,
     "metadata": {},
     "output_type": "execute_result"
    }
   ],
   "source": [
    "alist"
   ]
  },
  {
   "cell_type": "code",
   "execution_count": 49,
   "id": "ea23318c",
   "metadata": {},
   "outputs": [
    {
     "data": {
      "text/plain": [
       "'Faisal'"
      ]
     },
     "execution_count": 49,
     "metadata": {},
     "output_type": "execute_result"
    }
   ],
   "source": [
    "alist[2]"
   ]
  },
  {
   "cell_type": "code",
   "execution_count": 50,
   "id": "2420a0de",
   "metadata": {},
   "outputs": [
    {
     "data": {
      "text/plain": [
       "3"
      ]
     },
     "execution_count": 50,
     "metadata": {},
     "output_type": "execute_result"
    }
   ],
   "source": [
    "len(alist)"
   ]
  },
  {
   "cell_type": "code",
   "execution_count": 51,
   "id": "0635bd0c",
   "metadata": {},
   "outputs": [],
   "source": [
    "cities =[\"KHI\", \"MUX\", \"LHR\", \"ISD\", \"RWP\"]"
   ]
  },
  {
   "cell_type": "code",
   "execution_count": 52,
   "id": "864f0176",
   "metadata": {},
   "outputs": [
    {
     "data": {
      "text/plain": [
       "['KHI', 'MUX', 'LHR', 'ISD', 'RWP']"
      ]
     },
     "execution_count": 52,
     "metadata": {},
     "output_type": "execute_result"
    }
   ],
   "source": [
    "cities"
   ]
  },
  {
   "cell_type": "code",
   "execution_count": 56,
   "id": "290766ba",
   "metadata": {},
   "outputs": [
    {
     "data": {
      "text/plain": [
       "5"
      ]
     },
     "execution_count": 56,
     "metadata": {},
     "output_type": "execute_result"
    }
   ],
   "source": [
    "len(cities)"
   ]
  },
  {
   "cell_type": "code",
   "execution_count": 57,
   "id": "b4d2d3c9",
   "metadata": {},
   "outputs": [
    {
     "data": {
      "text/plain": [
       "'LHR'"
      ]
     },
     "execution_count": 57,
     "metadata": {},
     "output_type": "execute_result"
    }
   ],
   "source": [
    "cities[2]"
   ]
  },
  {
   "cell_type": "code",
   "execution_count": 58,
   "id": "7bdb5a50",
   "metadata": {},
   "outputs": [],
   "source": [
    "fruits=[]"
   ]
  },
  {
   "cell_type": "code",
   "execution_count": 61,
   "id": "1731853e",
   "metadata": {},
   "outputs": [
    {
     "data": {
      "text/plain": [
       "0"
      ]
     },
     "execution_count": 61,
     "metadata": {},
     "output_type": "execute_result"
    }
   ],
   "source": [
    "len(fruits)"
   ]
  },
  {
   "cell_type": "code",
   "execution_count": 62,
   "id": "dd148334",
   "metadata": {},
   "outputs": [],
   "source": [
    "fruits.append(\"orange\")"
   ]
  },
  {
   "cell_type": "code",
   "execution_count": 63,
   "id": "c962f150",
   "metadata": {},
   "outputs": [
    {
     "data": {
      "text/plain": [
       "['orange']"
      ]
     },
     "execution_count": 63,
     "metadata": {},
     "output_type": "execute_result"
    }
   ],
   "source": [
    "fruits"
   ]
  },
  {
   "cell_type": "code",
   "execution_count": 64,
   "id": "c93f34b1",
   "metadata": {},
   "outputs": [],
   "source": [
    "fruits.append(\"apple\")"
   ]
  },
  {
   "cell_type": "code",
   "execution_count": 65,
   "id": "94e001b2",
   "metadata": {},
   "outputs": [
    {
     "data": {
      "text/plain": [
       "['orange', 'apple']"
      ]
     },
     "execution_count": 65,
     "metadata": {},
     "output_type": "execute_result"
    }
   ],
   "source": [
    "fruits"
   ]
  },
  {
   "cell_type": "code",
   "execution_count": 71,
   "id": "20021df0",
   "metadata": {},
   "outputs": [],
   "source": [
    "fruits.insert(3,\"Banana\")"
   ]
  },
  {
   "cell_type": "code",
   "execution_count": 72,
   "id": "4aae6608",
   "metadata": {},
   "outputs": [
    {
     "data": {
      "text/plain": [
       "['orange', 'apple', 'Banana']"
      ]
     },
     "execution_count": 72,
     "metadata": {},
     "output_type": "execute_result"
    }
   ],
   "source": [
    "fruits"
   ]
  },
  {
   "cell_type": "code",
   "execution_count": 75,
   "id": "5d9902e7",
   "metadata": {},
   "outputs": [],
   "source": [
    "fruits.extend([\"guava\",\"pineapple\",\"peach\"])"
   ]
  },
  {
   "cell_type": "code",
   "execution_count": 76,
   "id": "69fc9412",
   "metadata": {},
   "outputs": [
    {
     "data": {
      "text/plain": [
       "['orange', 'apple', 'Banana', 'guava', 'pineapple', 'peach']"
      ]
     },
     "execution_count": 76,
     "metadata": {},
     "output_type": "execute_result"
    }
   ],
   "source": [
    "fruits"
   ]
  },
  {
   "cell_type": "code",
   "execution_count": 77,
   "id": "92574644",
   "metadata": {},
   "outputs": [],
   "source": [
    "fruits.extend([\"kiwi\", \"blackberry\"])"
   ]
  },
  {
   "cell_type": "code",
   "execution_count": 78,
   "id": "403622ff",
   "metadata": {},
   "outputs": [
    {
     "data": {
      "text/plain": [
       "['orange',\n",
       " 'apple',\n",
       " 'Banana',\n",
       " 'guava',\n",
       " 'pineapple',\n",
       " 'peach',\n",
       " 'kiwi',\n",
       " 'blackberry']"
      ]
     },
     "execution_count": 78,
     "metadata": {},
     "output_type": "execute_result"
    }
   ],
   "source": [
    "fruits"
   ]
  },
  {
   "cell_type": "code",
   "execution_count": 79,
   "id": "03a932d1",
   "metadata": {},
   "outputs": [
    {
     "data": {
      "text/plain": [
       "1"
      ]
     },
     "execution_count": 79,
     "metadata": {},
     "output_type": "execute_result"
    }
   ],
   "source": [
    "fruits.count(\"orange\")"
   ]
  },
  {
   "cell_type": "code",
   "execution_count": 82,
   "id": "36d351d8",
   "metadata": {},
   "outputs": [
    {
     "data": {
      "text/plain": [
       "0"
      ]
     },
     "execution_count": 82,
     "metadata": {},
     "output_type": "execute_result"
    }
   ],
   "source": [
    "fruits.index(\"orange\")"
   ]
  },
  {
   "cell_type": "code",
   "execution_count": 83,
   "id": "cf23bd32",
   "metadata": {},
   "outputs": [],
   "source": [
    "fruits.clear()"
   ]
  },
  {
   "cell_type": "code",
   "execution_count": 84,
   "id": "a8c8428a",
   "metadata": {},
   "outputs": [
    {
     "data": {
      "text/plain": [
       "[]"
      ]
     },
     "execution_count": 84,
     "metadata": {},
     "output_type": "execute_result"
    }
   ],
   "source": [
    "fruits"
   ]
  },
  {
   "cell_type": "code",
   "execution_count": 85,
   "id": "b250f2be",
   "metadata": {},
   "outputs": [],
   "source": [
    "fruits =['orange', 'apple', 'Banana', 'guava', 'pineapple', 'peach']"
   ]
  },
  {
   "cell_type": "code",
   "execution_count": 86,
   "id": "1c90572b",
   "metadata": {},
   "outputs": [],
   "source": [
    "fruits2 = fruits.copy()\n",
    "fruits3 = fruits"
   ]
  },
  {
   "cell_type": "code",
   "execution_count": 87,
   "id": "44952cc9",
   "metadata": {},
   "outputs": [
    {
     "data": {
      "text/plain": [
       "['orange', 'apple', 'Banana', 'guava', 'pineapple', 'peach']"
      ]
     },
     "execution_count": 87,
     "metadata": {},
     "output_type": "execute_result"
    }
   ],
   "source": [
    "fruits3"
   ]
  },
  {
   "cell_type": "code",
   "execution_count": 88,
   "id": "c4cc9de2",
   "metadata": {},
   "outputs": [
    {
     "data": {
      "text/plain": [
       "['orange', 'apple', 'Banana', 'guava', 'pineapple', 'peach']"
      ]
     },
     "execution_count": 88,
     "metadata": {},
     "output_type": "execute_result"
    }
   ],
   "source": [
    "fruits2"
   ]
  },
  {
   "cell_type": "code",
   "execution_count": 90,
   "id": "dd267d38",
   "metadata": {},
   "outputs": [],
   "source": [
    "del fruits2[3]"
   ]
  },
  {
   "cell_type": "code",
   "execution_count": 91,
   "id": "26e01b73",
   "metadata": {},
   "outputs": [
    {
     "data": {
      "text/plain": [
       "['orange', 'apple', 'Banana', 'pineapple', 'peach']"
      ]
     },
     "execution_count": 91,
     "metadata": {},
     "output_type": "execute_result"
    }
   ],
   "source": [
    "fruits2"
   ]
  },
  {
   "cell_type": "code",
   "execution_count": 92,
   "id": "d5172f9f",
   "metadata": {},
   "outputs": [],
   "source": [
    "fruits.remove(\"Banana\")"
   ]
  },
  {
   "cell_type": "code",
   "execution_count": 93,
   "id": "71d460a3",
   "metadata": {},
   "outputs": [
    {
     "data": {
      "text/plain": [
       "['orange', 'apple', 'guava', 'pineapple', 'peach']"
      ]
     },
     "execution_count": 93,
     "metadata": {},
     "output_type": "execute_result"
    }
   ],
   "source": [
    "fruits"
   ]
  },
  {
   "cell_type": "code",
   "execution_count": 94,
   "id": "7365cb21",
   "metadata": {},
   "outputs": [
    {
     "data": {
      "text/plain": [
       "'pineapple'"
      ]
     },
     "execution_count": 94,
     "metadata": {},
     "output_type": "execute_result"
    }
   ],
   "source": [
    "fruits.pop(3)"
   ]
  },
  {
   "cell_type": "code",
   "execution_count": 95,
   "id": "16c4e0b7",
   "metadata": {},
   "outputs": [
    {
     "data": {
      "text/plain": [
       "['orange', 'apple', 'guava', 'peach']"
      ]
     },
     "execution_count": 95,
     "metadata": {},
     "output_type": "execute_result"
    }
   ],
   "source": [
    "fruits"
   ]
  },
  {
   "cell_type": "code",
   "execution_count": 96,
   "id": "30599626",
   "metadata": {},
   "outputs": [
    {
     "data": {
      "text/plain": [
       "['KHI', 'MUX', 'LHR', 'ISD', 'RWP']"
      ]
     },
     "execution_count": 96,
     "metadata": {},
     "output_type": "execute_result"
    }
   ],
   "source": [
    "cities"
   ]
  },
  {
   "cell_type": "code",
   "execution_count": 97,
   "id": "dafaf29b",
   "metadata": {},
   "outputs": [
    {
     "data": {
      "text/plain": [
       "'LHR'"
      ]
     },
     "execution_count": 97,
     "metadata": {},
     "output_type": "execute_result"
    }
   ],
   "source": [
    "poppedcity = cities.pop(2)\n",
    "poppedcity"
   ]
  },
  {
   "cell_type": "code",
   "execution_count": 98,
   "id": "8f9d0cdc",
   "metadata": {},
   "outputs": [],
   "source": [
    "cities.sort()"
   ]
  },
  {
   "cell_type": "code",
   "execution_count": 99,
   "id": "2154a2ae",
   "metadata": {},
   "outputs": [
    {
     "data": {
      "text/plain": [
       "['ISD', 'KHI', 'MUX', 'RWP']"
      ]
     },
     "execution_count": 99,
     "metadata": {},
     "output_type": "execute_result"
    }
   ],
   "source": [
    "cities"
   ]
  },
  {
   "cell_type": "code",
   "execution_count": 101,
   "id": "74b11009",
   "metadata": {},
   "outputs": [],
   "source": [
    "cities.sort(reverse=True)"
   ]
  },
  {
   "cell_type": "code",
   "execution_count": 102,
   "id": "4382480e",
   "metadata": {},
   "outputs": [
    {
     "data": {
      "text/plain": [
       "['RWP', 'MUX', 'KHI', 'ISD']"
      ]
     },
     "execution_count": 102,
     "metadata": {},
     "output_type": "execute_result"
    }
   ],
   "source": [
    "cities"
   ]
  },
  {
   "cell_type": "code",
   "execution_count": 103,
   "id": "9f148afb",
   "metadata": {},
   "outputs": [],
   "source": [
    "cities.reverse()"
   ]
  },
  {
   "cell_type": "code",
   "execution_count": 104,
   "id": "7717fe5d",
   "metadata": {},
   "outputs": [
    {
     "data": {
      "text/plain": [
       "['ISD', 'KHI', 'MUX', 'RWP']"
      ]
     },
     "execution_count": 104,
     "metadata": {},
     "output_type": "execute_result"
    }
   ],
   "source": [
    "cities"
   ]
  },
  {
   "cell_type": "code",
   "execution_count": 105,
   "id": "0644b7f5",
   "metadata": {},
   "outputs": [
    {
     "data": {
      "text/plain": [
       "['orange', 'apple', 'guava', 'peach']"
      ]
     },
     "execution_count": 105,
     "metadata": {},
     "output_type": "execute_result"
    }
   ],
   "source": [
    "fruits"
   ]
  },
  {
   "cell_type": "code",
   "execution_count": 106,
   "id": "d619ec01",
   "metadata": {},
   "outputs": [],
   "source": [
    "fruits.append(\"blackberry\")"
   ]
  },
  {
   "cell_type": "code",
   "execution_count": 107,
   "id": "1d67d744",
   "metadata": {},
   "outputs": [
    {
     "data": {
      "text/plain": [
       "['orange', 'apple', 'guava', 'peach', 'blackberry']"
      ]
     },
     "execution_count": 107,
     "metadata": {},
     "output_type": "execute_result"
    }
   ],
   "source": [
    "fruits"
   ]
  },
  {
   "cell_type": "code",
   "execution_count": 109,
   "id": "9497cad0",
   "metadata": {},
   "outputs": [],
   "source": [
    "fruits.extend([\"kiwi\", \"cherry\", \"grapes\", \"mellon\", \"watermelon\"])"
   ]
  },
  {
   "cell_type": "code",
   "execution_count": 110,
   "id": "6bf623ea",
   "metadata": {},
   "outputs": [
    {
     "data": {
      "text/plain": [
       "['orange',\n",
       " 'apple',\n",
       " 'guava',\n",
       " 'peach',\n",
       " 'blackberry',\n",
       " 'kiwi',\n",
       " 'cherry',\n",
       " 'grapes',\n",
       " 'mellon',\n",
       " 'watermelon']"
      ]
     },
     "execution_count": 110,
     "metadata": {},
     "output_type": "execute_result"
    }
   ],
   "source": [
    "fruits"
   ]
  },
  {
   "cell_type": "code",
   "execution_count": 111,
   "id": "ee4a58d6",
   "metadata": {},
   "outputs": [
    {
     "data": {
      "text/plain": [
       "5"
      ]
     },
     "execution_count": 111,
     "metadata": {},
     "output_type": "execute_result"
    }
   ],
   "source": [
    "fruits.index(\"kiwi\")"
   ]
  },
  {
   "cell_type": "code",
   "execution_count": 112,
   "id": "3f1fa908",
   "metadata": {},
   "outputs": [
    {
     "data": {
      "text/plain": [
       "['ISD', 'KHI', 'MUX', 'RWP']"
      ]
     },
     "execution_count": 112,
     "metadata": {},
     "output_type": "execute_result"
    }
   ],
   "source": [
    "cities"
   ]
  },
  {
   "cell_type": "code",
   "execution_count": 113,
   "id": "37ae37ff",
   "metadata": {},
   "outputs": [
    {
     "data": {
      "text/plain": [
       "True"
      ]
     },
     "execution_count": 113,
     "metadata": {},
     "output_type": "execute_result"
    }
   ],
   "source": [
    "'KHI' in cities"
   ]
  },
  {
   "cell_type": "code",
   "execution_count": 114,
   "id": "5ec31a50",
   "metadata": {},
   "outputs": [
    {
     "name": "stdout",
     "output_type": "stream",
     "text": [
      "['KHI', 'MUX']\n"
     ]
    }
   ],
   "source": [
    "print(cities[1:3])"
   ]
  },
  {
   "cell_type": "code",
   "execution_count": 115,
   "id": "e2cf46eb",
   "metadata": {},
   "outputs": [
    {
     "data": {
      "text/plain": [
       "['orange',\n",
       " 'apple',\n",
       " 'guava',\n",
       " 'peach',\n",
       " 'blackberry',\n",
       " 'kiwi',\n",
       " 'cherry',\n",
       " 'grapes',\n",
       " 'mellon',\n",
       " 'watermelon']"
      ]
     },
     "execution_count": 115,
     "metadata": {},
     "output_type": "execute_result"
    }
   ],
   "source": [
    "fruits"
   ]
  },
  {
   "cell_type": "code",
   "execution_count": 116,
   "id": "3070884f",
   "metadata": {},
   "outputs": [
    {
     "name": "stdout",
     "output_type": "stream",
     "text": [
      "['apple', 'guava', 'peach', 'blackberry', 'kiwi']\n"
     ]
    }
   ],
   "source": [
    "print(fruits[1:6])"
   ]
  },
  {
   "cell_type": "code",
   "execution_count": 117,
   "id": "ed808db6",
   "metadata": {},
   "outputs": [],
   "source": [
    "students = [\"Ali\", \"Nayyer\", \"Usman\", \"Faisal\", \"Hamza\", \"Kashif\"]"
   ]
  },
  {
   "cell_type": "code",
   "execution_count": 118,
   "id": "fffb1d6f",
   "metadata": {},
   "outputs": [
    {
     "data": {
      "text/plain": [
       "['Ali', 'Nayyer', 'Usman', 'Faisal', 'Hamza', 'Kashif']"
      ]
     },
     "execution_count": 118,
     "metadata": {},
     "output_type": "execute_result"
    }
   ],
   "source": [
    "students"
   ]
  },
  {
   "cell_type": "code",
   "execution_count": 119,
   "id": "6b8d1f1e",
   "metadata": {},
   "outputs": [
    {
     "name": "stdout",
     "output_type": "stream",
     "text": [
      "['Nayyer', 'Usman', 'Faisal', 'Hamza']\n"
     ]
    }
   ],
   "source": [
    "students = [\"Ali\", \"Nayyer\", \"Usman\", \"Faisal\", \"Hamza\", \"Kashif\"]\n",
    "print(students[-5:-1])"
   ]
  },
  {
   "cell_type": "code",
   "execution_count": 120,
   "id": "fb35e147",
   "metadata": {},
   "outputs": [
    {
     "name": "stdout",
     "output_type": "stream",
     "text": [
      "[]\n"
     ]
    }
   ],
   "source": [
    "students = [\"Ali\", \"Nayyer\", \"Usman\", \"Faisal\", \"Hamza\", \"Kashif\"]\n",
    "print(students[5:1])"
   ]
  },
  {
   "cell_type": "code",
   "execution_count": 121,
   "id": "e4d5473e",
   "metadata": {},
   "outputs": [
    {
     "name": "stdout",
     "output_type": "stream",
     "text": [
      "['Nayyer', 'Usman', 'Faisal']\n"
     ]
    }
   ],
   "source": [
    "students = [\"Ali\", \"Nayyer\", \"Usman\", \"Faisal\", \"Hamza\", \"Kashif\"]\n",
    "print(students[1:4])"
   ]
  },
  {
   "cell_type": "code",
   "execution_count": 122,
   "id": "31576fdd",
   "metadata": {},
   "outputs": [
    {
     "name": "stdout",
     "output_type": "stream",
     "text": [
      "['Nayyer', 'Usman', 'Faisal', 'Hamza', 'Kashif']\n"
     ]
    }
   ],
   "source": [
    "students = [\"Ali\", \"Nayyer\", \"Usman\", \"Faisal\", \"Hamza\", \"Kashif\"]\n",
    "print(students[1:])"
   ]
  },
  {
   "cell_type": "code",
   "execution_count": 123,
   "id": "2c17617e",
   "metadata": {},
   "outputs": [
    {
     "name": "stdout",
     "output_type": "stream",
     "text": [
      "['Ali', 'Nayyer', 'Usman', 'Faisal', 'Hamza', 'Kashif']\n"
     ]
    }
   ],
   "source": [
    "students = [\"Ali\", \"Nayyer\", \"Usman\", \"Faisal\", \"Hamza\", \"Kashif\"]\n",
    "print(students[:])"
   ]
  },
  {
   "cell_type": "code",
   "execution_count": 124,
   "id": "c9e83948",
   "metadata": {},
   "outputs": [
    {
     "name": "stdout",
     "output_type": "stream",
     "text": [
      "Ali\n"
     ]
    }
   ],
   "source": [
    "print(students[0])"
   ]
  },
  {
   "cell_type": "code",
   "execution_count": 125,
   "id": "78435d09",
   "metadata": {},
   "outputs": [
    {
     "data": {
      "text/plain": [
       "['Nayyer', 'Usman']"
      ]
     },
     "execution_count": 125,
     "metadata": {},
     "output_type": "execute_result"
    }
   ],
   "source": [
    "students[1:3]"
   ]
  },
  {
   "cell_type": "code",
   "execution_count": 127,
   "id": "25cd7ab0",
   "metadata": {},
   "outputs": [
    {
     "data": {
      "text/plain": [
       "['Nayyer', 'Usman']"
      ]
     },
     "execution_count": 127,
     "metadata": {},
     "output_type": "execute_result"
    }
   ],
   "source": [
    "students[1:2+1]"
   ]
  },
  {
   "cell_type": "code",
   "execution_count": 128,
   "id": "d5d9c2aa",
   "metadata": {},
   "outputs": [
    {
     "data": {
      "text/plain": [
       "['Usman', 'Faisal']"
      ]
     },
     "execution_count": 128,
     "metadata": {},
     "output_type": "execute_result"
    }
   ],
   "source": [
    "students[-4:-2]"
   ]
  },
  {
   "cell_type": "code",
   "execution_count": 129,
   "id": "356e879d",
   "metadata": {},
   "outputs": [
    {
     "data": {
      "text/plain": [
       "['Ali', 'Nayyer', 'Usman', 'Faisal', 'Hamza', 'Kashif']"
      ]
     },
     "execution_count": 129,
     "metadata": {},
     "output_type": "execute_result"
    }
   ],
   "source": [
    "students[0:]"
   ]
  },
  {
   "cell_type": "code",
   "execution_count": 130,
   "id": "ed37a05e",
   "metadata": {},
   "outputs": [
    {
     "data": {
      "text/plain": [
       "['Faisal', 'Hamza', 'Kashif']"
      ]
     },
     "execution_count": 130,
     "metadata": {},
     "output_type": "execute_result"
    }
   ],
   "source": [
    "students[0:]"
   ]
  },
  {
   "cell_type": "code",
   "execution_count": 131,
   "id": "e8dcf61d",
   "metadata": {},
   "outputs": [
    {
     "data": {
      "text/plain": [
       "['Ali', 'Nayyer', 'Usman']"
      ]
     },
     "execution_count": 131,
     "metadata": {},
     "output_type": "execute_result"
    }
   ],
   "source": [
    "students[:3]"
   ]
  },
  {
   "cell_type": "code",
   "execution_count": 132,
   "id": "0120a130",
   "metadata": {},
   "outputs": [
    {
     "data": {
      "text/plain": [
       "['Usman', 'Faisal', 'Hamza']"
      ]
     },
     "execution_count": 132,
     "metadata": {},
     "output_type": "execute_result"
    }
   ],
   "source": [
    "students[2:-1]"
   ]
  },
  {
   "cell_type": "code",
   "execution_count": 133,
   "id": "3441e788",
   "metadata": {},
   "outputs": [
    {
     "data": {
      "text/plain": [
       "[]"
      ]
     },
     "execution_count": 133,
     "metadata": {},
     "output_type": "execute_result"
    }
   ],
   "source": [
    "students[2:-6]"
   ]
  },
  {
   "cell_type": "code",
   "execution_count": 134,
   "id": "35295474",
   "metadata": {},
   "outputs": [],
   "source": [
    "nums = [1,2,3,4,5,6,7,8,9,10,11,12,13,14,15,16,17,18,19,20]"
   ]
  },
  {
   "cell_type": "code",
   "execution_count": 135,
   "id": "63a80c7d",
   "metadata": {},
   "outputs": [
    {
     "data": {
      "text/plain": [
       "[1, 2, 3, 4, 5, 6, 7, 8, 9, 10, 11, 12, 13, 14, 15, 16]"
      ]
     },
     "execution_count": 135,
     "metadata": {},
     "output_type": "execute_result"
    }
   ],
   "source": [
    "nums[0:16]"
   ]
  },
  {
   "cell_type": "code",
   "execution_count": 136,
   "id": "8be06024",
   "metadata": {},
   "outputs": [
    {
     "data": {
      "text/plain": [
       "[1, 2, 3, 4, 5, 6, 7, 8, 9, 10, 11, 12, 13, 14, 15, 16]"
      ]
     },
     "execution_count": 136,
     "metadata": {},
     "output_type": "execute_result"
    }
   ],
   "source": [
    "nums[0:16:1]"
   ]
  },
  {
   "cell_type": "code",
   "execution_count": 137,
   "id": "f9dde4cb",
   "metadata": {},
   "outputs": [
    {
     "data": {
      "text/plain": [
       "[1, 5, 9, 13]"
      ]
     },
     "execution_count": 137,
     "metadata": {},
     "output_type": "execute_result"
    }
   ],
   "source": [
    "nums[0:16:4]"
   ]
  },
  {
   "cell_type": "code",
   "execution_count": 138,
   "id": "c95817b0",
   "metadata": {},
   "outputs": [
    {
     "data": {
      "text/plain": [
       "[1, 6, 11, 16]"
      ]
     },
     "execution_count": 138,
     "metadata": {},
     "output_type": "execute_result"
    }
   ],
   "source": [
    "nums[0:16:5]"
   ]
  },
  {
   "cell_type": "code",
   "execution_count": 139,
   "id": "6cb859fd",
   "metadata": {},
   "outputs": [
    {
     "data": {
      "text/plain": [
       "[1, 4, 7, 10, 13, 16]"
      ]
     },
     "execution_count": 139,
     "metadata": {},
     "output_type": "execute_result"
    }
   ],
   "source": [
    "nums[0:16:3]"
   ]
  },
  {
   "cell_type": "code",
   "execution_count": 140,
   "id": "fb9f99a7",
   "metadata": {},
   "outputs": [
    {
     "data": {
      "text/plain": [
       "[1, 6, 11, 16]"
      ]
     },
     "execution_count": 140,
     "metadata": {},
     "output_type": "execute_result"
    }
   ],
   "source": [
    "nums[::5]"
   ]
  },
  {
   "cell_type": "code",
   "execution_count": 141,
   "id": "e2db6d12",
   "metadata": {},
   "outputs": [],
   "source": [
    "del nums[5]"
   ]
  },
  {
   "cell_type": "code",
   "execution_count": 142,
   "id": "24699138",
   "metadata": {},
   "outputs": [
    {
     "data": {
      "text/plain": [
       "[1, 2, 3, 4, 5, 7, 8, 9, 10, 11, 12, 13, 14, 15, 16, 17, 18, 19, 20]"
      ]
     },
     "execution_count": 142,
     "metadata": {},
     "output_type": "execute_result"
    }
   ],
   "source": [
    "nums"
   ]
  },
  {
   "cell_type": "code",
   "execution_count": 143,
   "id": "c20d8550",
   "metadata": {},
   "outputs": [],
   "source": [
    "del nums[2:10]"
   ]
  },
  {
   "cell_type": "code",
   "execution_count": 144,
   "id": "44553460",
   "metadata": {},
   "outputs": [
    {
     "data": {
      "text/plain": [
       "[1, 2, 12, 13, 14, 15, 16, 17, 18, 19, 20]"
      ]
     },
     "execution_count": 144,
     "metadata": {},
     "output_type": "execute_result"
    }
   ],
   "source": [
    "nums"
   ]
  },
  {
   "cell_type": "code",
   "execution_count": 146,
   "id": "597f779b",
   "metadata": {},
   "outputs": [],
   "source": [
    "nums.remove(2)"
   ]
  },
  {
   "cell_type": "code",
   "execution_count": 147,
   "id": "a5762b74",
   "metadata": {},
   "outputs": [
    {
     "data": {
      "text/plain": [
       "[1, 12, 13, 14, 15, 16, 17, 18, 19, 20]"
      ]
     },
     "execution_count": 147,
     "metadata": {},
     "output_type": "execute_result"
    }
   ],
   "source": [
    "nums"
   ]
  },
  {
   "cell_type": "code",
   "execution_count": 148,
   "id": "a2b2037a",
   "metadata": {},
   "outputs": [
    {
     "data": {
      "text/plain": [
       "['ISD', 'KHI', 'MUX', 'RWP']"
      ]
     },
     "execution_count": 148,
     "metadata": {},
     "output_type": "execute_result"
    }
   ],
   "source": [
    "cities"
   ]
  },
  {
   "cell_type": "code",
   "execution_count": 153,
   "id": "ca1bcd18",
   "metadata": {},
   "outputs": [
    {
     "name": "stdout",
     "output_type": "stream",
     "text": [
      "welcomeKHI\n"
     ]
    }
   ],
   "source": [
    "print(\"welcome\" +'KHI')"
   ]
  },
  {
   "cell_type": "code",
   "execution_count": 154,
   "id": "0a3791cd",
   "metadata": {},
   "outputs": [],
   "source": [
    "atupple = (\"nasir\", 100, \"hussain\")"
   ]
  },
  {
   "cell_type": "code",
   "execution_count": 155,
   "id": "7902494d",
   "metadata": {},
   "outputs": [
    {
     "data": {
      "text/plain": [
       "3"
      ]
     },
     "execution_count": 155,
     "metadata": {},
     "output_type": "execute_result"
    }
   ],
   "source": [
    "len(atupple)"
   ]
  },
  {
   "cell_type": "code",
   "execution_count": 156,
   "id": "2933dc66",
   "metadata": {},
   "outputs": [
    {
     "data": {
      "text/plain": [
       "100"
      ]
     },
     "execution_count": 156,
     "metadata": {},
     "output_type": "execute_result"
    }
   ],
   "source": [
    "atupple[1]"
   ]
  },
  {
   "cell_type": "code",
   "execution_count": 157,
   "id": "274fad4b",
   "metadata": {},
   "outputs": [],
   "source": [
    "a= 12, 45"
   ]
  },
  {
   "cell_type": "code",
   "execution_count": 158,
   "id": "34b67d1d",
   "metadata": {},
   "outputs": [
    {
     "data": {
      "text/plain": [
       "(12, 45)"
      ]
     },
     "execution_count": 158,
     "metadata": {},
     "output_type": "execute_result"
    }
   ],
   "source": [
    "a"
   ]
  },
  {
   "cell_type": "code",
   "execution_count": 159,
   "id": "6f4d7cae",
   "metadata": {},
   "outputs": [
    {
     "data": {
      "text/plain": [
       "1"
      ]
     },
     "execution_count": 159,
     "metadata": {},
     "output_type": "execute_result"
    }
   ],
   "source": [
    "a.index(45)"
   ]
  },
  {
   "cell_type": "markdown",
   "id": "47529625",
   "metadata": {},
   "source": [
    "# For Loop"
   ]
  },
  {
   "cell_type": "code",
   "execution_count": 168,
   "id": "83bee1eb",
   "metadata": {},
   "outputs": [
    {
     "name": "stdout",
     "output_type": "stream",
     "text": [
      "nasir\n",
      "nasir\n",
      "nasir\n",
      "nasir\n",
      "nasir\n"
     ]
    }
   ],
   "source": [
    "print(\"nasir\")\n",
    "print(\"nasir\")\n",
    "print(\"nasir\")\n",
    "print(\"nasir\")\n",
    "print(\"nasir\")"
   ]
  },
  {
   "cell_type": "code",
   "execution_count": 169,
   "id": "f940a4e7",
   "metadata": {},
   "outputs": [
    {
     "name": "stdout",
     "output_type": "stream",
     "text": [
      "nasir\n",
      "nasir\n",
      "nasir\n",
      "nasir\n",
      "nasir\n"
     ]
    }
   ],
   "source": [
    "for a in range(5):\n",
    "    print(\"nasir\")"
   ]
  },
  {
   "cell_type": "code",
   "execution_count": 170,
   "id": "e37765b0",
   "metadata": {},
   "outputs": [
    {
     "name": "stdout",
     "output_type": "stream",
     "text": [
      "nasir\n",
      "nasir\n",
      "nasir\n",
      "nasir\n",
      "nasir\n",
      "nasir\n",
      "nasir\n",
      "nasir\n",
      "nasir\n",
      "nasir\n"
     ]
    }
   ],
   "source": [
    "for a in range(10):\n",
    "    print(\"nasir\")"
   ]
  },
  {
   "cell_type": "code",
   "execution_count": 171,
   "id": "c840a59c",
   "metadata": {},
   "outputs": [
    {
     "name": "stdout",
     "output_type": "stream",
     "text": [
      "0 nasir\n",
      "1 nasir\n",
      "2 nasir\n",
      "3 nasir\n",
      "4 nasir\n"
     ]
    }
   ],
   "source": [
    "for a in range(5):\n",
    "    print(a, \"nasir\")"
   ]
  },
  {
   "cell_type": "code",
   "execution_count": 172,
   "id": "7ecb1383",
   "metadata": {},
   "outputs": [
    {
     "name": "stdout",
     "output_type": "stream",
     "text": [
      "0\n",
      "1\n",
      "2\n",
      "3\n",
      "4\n",
      "5\n",
      "6\n",
      "7\n",
      "8\n",
      "9\n"
     ]
    }
   ],
   "source": [
    "for number in range(10):\n",
    "    print(number)"
   ]
  },
  {
   "cell_type": "code",
   "execution_count": 173,
   "id": "b1ceae49",
   "metadata": {},
   "outputs": [
    {
     "name": "stdout",
     "output_type": "stream",
     "text": [
      "1\n",
      "2\n",
      "3\n",
      "4\n",
      "5\n",
      "6\n",
      "7\n",
      "8\n",
      "9\n"
     ]
    }
   ],
   "source": [
    "for number in range(1,10):\n",
    "    print(number)"
   ]
  },
  {
   "cell_type": "code",
   "execution_count": 174,
   "id": "89b35bc1",
   "metadata": {},
   "outputs": [
    {
     "name": "stdout",
     "output_type": "stream",
     "text": [
      "1\n",
      "3\n",
      "5\n",
      "7\n",
      "9\n"
     ]
    }
   ],
   "source": [
    "for number in range(1,10,2):\n",
    "    print(number)"
   ]
  },
  {
   "cell_type": "code",
   "execution_count": 175,
   "id": "78c34fc6",
   "metadata": {},
   "outputs": [
    {
     "name": "stdout",
     "output_type": "stream",
     "text": [
      "1\n",
      "4\n",
      "7\n"
     ]
    }
   ],
   "source": [
    "for number in range(1,10,3):\n",
    "    print(number)"
   ]
  },
  {
   "cell_type": "code",
   "execution_count": 176,
   "id": "31af3013",
   "metadata": {},
   "outputs": [
    {
     "name": "stdout",
     "output_type": "stream",
     "text": [
      "10\n",
      "8\n",
      "6\n",
      "4\n",
      "2\n"
     ]
    }
   ],
   "source": [
    "for number in range(10,1,-2):\n",
    "    print(number)"
   ]
  },
  {
   "cell_type": "code",
   "execution_count": 177,
   "id": "844b04b8",
   "metadata": {},
   "outputs": [
    {
     "name": "stdout",
     "output_type": "stream",
     "text": [
      "10\n",
      "6\n",
      "2\n"
     ]
    }
   ],
   "source": [
    "for number in range(10,1,-4):\n",
    "    print(number)"
   ]
  },
  {
   "cell_type": "code",
   "execution_count": 178,
   "id": "736642e0",
   "metadata": {},
   "outputs": [
    {
     "data": {
      "text/plain": [
       "['ISD', 'KHI', 'MUX', 'RWP']"
      ]
     },
     "execution_count": 178,
     "metadata": {},
     "output_type": "execute_result"
    }
   ],
   "source": [
    "cities"
   ]
  },
  {
   "cell_type": "code",
   "execution_count": 181,
   "id": "12148901",
   "metadata": {},
   "outputs": [
    {
     "name": "stdout",
     "output_type": "stream",
     "text": [
      "The city under consideration is ISD\n",
      "The city under consideration is KHI\n",
      "The city under consideration is MUX\n",
      "The city under consideration is RWP\n"
     ]
    }
   ],
   "source": [
    "for city in cities:\n",
    "    print(f\"The city under consideration is {city}\")"
   ]
  },
  {
   "cell_type": "code",
   "execution_count": 182,
   "id": "90b08c64",
   "metadata": {},
   "outputs": [
    {
     "name": "stdout",
     "output_type": "stream",
     "text": [
      "11\n",
      "22\n",
      "33\n",
      "44\n",
      "55\n"
     ]
    }
   ],
   "source": [
    "for num in [11, 22, 33, 44, 55]:\n",
    "    print(num)"
   ]
  },
  {
   "cell_type": "code",
   "execution_count": 185,
   "id": "ec8212c5",
   "metadata": {},
   "outputs": [
    {
     "name": "stdout",
     "output_type": "stream",
     "text": [
      "P\n",
      "a\n",
      "k\n",
      "i\n",
      "s\n",
      "t\n",
      "a\n",
      "n\n"
     ]
    }
   ],
   "source": [
    "country = \"Pakistan\"\n",
    "for char in country:\n",
    "    print(char)"
   ]
  },
  {
   "cell_type": "code",
   "execution_count": 186,
   "id": "3fef63e7",
   "metadata": {},
   "outputs": [
    {
     "name": "stdout",
     "output_type": "stream",
     "text": [
      "Pakistan\n",
      "America\n"
     ]
    }
   ],
   "source": [
    "country = \"Pakistan\", \"America\"\n",
    "for char in country:\n",
    "    print(char)"
   ]
  },
  {
   "cell_type": "code",
   "execution_count": 187,
   "id": "c9e28be6",
   "metadata": {},
   "outputs": [
    {
     "name": "stdout",
     "output_type": "stream",
     "text": [
      "0\n"
     ]
    }
   ],
   "source": [
    "for number in range(10):\n",
    "    if number%3 == 1:\n",
    "        break\n",
    "    print(number)    "
   ]
  },
  {
   "cell_type": "code",
   "execution_count": 188,
   "id": "904b2cd2",
   "metadata": {},
   "outputs": [],
   "source": [
    "for number in range(10):\n",
    "    if number%3 == 0:\n",
    "        break\n",
    "    print(number)    "
   ]
  },
  {
   "cell_type": "code",
   "execution_count": 189,
   "id": "31103801",
   "metadata": {},
   "outputs": [
    {
     "name": "stdout",
     "output_type": "stream",
     "text": [
      "0\n"
     ]
    }
   ],
   "source": [
    "for number in range(10):\n",
    "    if number%3 != 0:\n",
    "        break\n",
    "    print(number)    "
   ]
  },
  {
   "cell_type": "code",
   "execution_count": 190,
   "id": "5c25b78e",
   "metadata": {},
   "outputs": [
    {
     "name": "stdout",
     "output_type": "stream",
     "text": [
      "0\n"
     ]
    }
   ],
   "source": [
    "for number in range(10):\n",
    "    if number%2 != 0:\n",
    "        break\n",
    "    print(number) "
   ]
  },
  {
   "cell_type": "code",
   "execution_count": 192,
   "id": "bc091682",
   "metadata": {},
   "outputs": [
    {
     "name": "stdout",
     "output_type": "stream",
     "text": [
      "5\n",
      "7\n",
      "11\n"
     ]
    }
   ],
   "source": [
    "for number in [5,7,11,90]:\n",
    "    if number%2 == 0:\n",
    "        break\n",
    "    print(number) "
   ]
  },
  {
   "cell_type": "code",
   "execution_count": 197,
   "id": "274cbf08",
   "metadata": {},
   "outputs": [
    {
     "name": "stdout",
     "output_type": "stream",
     "text": [
      "0\n",
      "1\n",
      "2\n",
      "3\n",
      "5\n",
      "6\n",
      "8\n",
      "9\n"
     ]
    }
   ],
   "source": [
    "for num in range (10):\n",
    "    if num==7 or num==4:\n",
    "        continue\n",
    "    print(num)"
   ]
  },
  {
   "cell_type": "code",
   "execution_count": 198,
   "id": "7a7052d7",
   "metadata": {},
   "outputs": [
    {
     "name": "stdout",
     "output_type": "stream",
     "text": [
      "0\n",
      "1\n",
      "2\n",
      "3\n",
      "5\n",
      "6\n",
      "8\n",
      "9\n",
      "10\n",
      "11\n",
      "12\n",
      "13\n",
      "14\n",
      "15\n",
      "16\n",
      "17\n",
      "18\n",
      "19\n"
     ]
    }
   ],
   "source": [
    "for num in range (20):\n",
    "    if num==7 or num==4:\n",
    "        continue\n",
    "    print(num)"
   ]
  },
  {
   "cell_type": "code",
   "execution_count": 199,
   "id": "758d7fc3",
   "metadata": {},
   "outputs": [
    {
     "name": "stdout",
     "output_type": "stream",
     "text": [
      "0\n",
      "1\n",
      "2\n",
      "3\n",
      "5\n",
      "6\n",
      "8\n",
      "9\n",
      "10\n",
      "11\n",
      "12\n",
      "13\n",
      "14\n",
      "15\n",
      "16\n",
      "17\n",
      "18\n",
      "19\n",
      "20\n",
      "21\n",
      "22\n",
      "23\n",
      "24\n",
      "25\n",
      "26\n",
      "27\n",
      "28\n",
      "29\n",
      "30\n",
      "31\n",
      "32\n",
      "33\n",
      "34\n",
      "35\n",
      "36\n",
      "37\n",
      "38\n",
      "39\n",
      "40\n",
      "41\n",
      "42\n",
      "43\n",
      "44\n",
      "45\n",
      "46\n",
      "47\n",
      "48\n",
      "49\n"
     ]
    }
   ],
   "source": [
    "for num in range (50):\n",
    "    if num==7 or num==4:\n",
    "        continue\n",
    "    print(num)"
   ]
  },
  {
   "cell_type": "code",
   "execution_count": 200,
   "id": "2666aaa6",
   "metadata": {},
   "outputs": [
    {
     "name": "stdout",
     "output_type": "stream",
     "text": [
      "0\n",
      "1\n",
      "2\n",
      "3\n",
      "4\n",
      "6\n",
      "8\n",
      "9\n"
     ]
    }
   ],
   "source": [
    "for num in range (10):\n",
    "    if num==7 or num==5:\n",
    "        continue\n",
    "    print(num)"
   ]
  },
  {
   "cell_type": "markdown",
   "id": "b5bba9d9",
   "metadata": {},
   "source": [
    "# NESTED FOR LOOP"
   ]
  },
  {
   "cell_type": "code",
   "execution_count": 201,
   "id": "b84549b0",
   "metadata": {},
   "outputs": [
    {
     "name": "stdout",
     "output_type": "stream",
     "text": [
      "Inner loop begins\n",
      "0 C\n",
      "0 h\n",
      "0 i\n",
      "0 n\n",
      "0 a\n",
      "Inner loop begins\n",
      "1 C\n",
      "1 h\n",
      "1 i\n",
      "1 n\n",
      "1 a\n",
      "Inner loop begins\n",
      "2 C\n",
      "2 h\n",
      "2 i\n",
      "2 n\n",
      "2 a\n",
      "Inner loop begins\n",
      "3 C\n",
      "3 h\n",
      "3 i\n",
      "3 n\n",
      "3 a\n",
      "Inner loop begins\n",
      "4 C\n",
      "4 h\n",
      "4 i\n",
      "4 n\n",
      "4 a\n"
     ]
    }
   ],
   "source": [
    "for a in range(5):\n",
    "    print(\"Inner loop begins\")\n",
    "    for char in \"China\":\n",
    "        print(a, char)"
   ]
  },
  {
   "cell_type": "code",
   "execution_count": 202,
   "id": "75eeacc7",
   "metadata": {},
   "outputs": [
    {
     "name": "stdout",
     "output_type": "stream",
     "text": [
      "Inner loop begins\n",
      "0 C\n",
      "0 h\n",
      "0 i\n",
      "0 n\n",
      "0 a\n",
      "Inner loop begins\n",
      "1 C\n",
      "1 h\n",
      "1 i\n",
      "1 n\n",
      "1 a\n"
     ]
    }
   ],
   "source": [
    "for a in range(2):\n",
    "    print(\"Inner loop begins\")\n",
    "    for char in \"China\":\n",
    "        print(a, char)"
   ]
  },
  {
   "cell_type": "code",
   "execution_count": 203,
   "id": "4d534a42",
   "metadata": {},
   "outputs": [
    {
     "name": "stdout",
     "output_type": "stream",
     "text": [
      "Inner loop begins\n",
      "0 C\n",
      "0 h\n",
      "0 i\n",
      "0 n\n",
      "0 a\n",
      "Inner loop begins\n",
      "1 C\n",
      "1 h\n",
      "1 i\n",
      "1 n\n",
      "1 a\n",
      "Inner loop begins\n",
      "2 C\n",
      "2 h\n",
      "2 i\n",
      "2 n\n",
      "2 a\n"
     ]
    }
   ],
   "source": [
    "for a in range(3):\n",
    "    print(\"Inner loop begins\")\n",
    "    for char in \"China\":\n",
    "        print(a, char)"
   ]
  },
  {
   "cell_type": "code",
   "execution_count": 206,
   "id": "ff177274",
   "metadata": {},
   "outputs": [
    {
     "name": "stdout",
     "output_type": "stream",
     "text": [
      "Enter Table number5\n",
      "5* 1= 5\n",
      "5* 2= 10\n",
      "5* 3= 15\n",
      "5* 4= 20\n",
      "5* 5= 25\n",
      "5* 6= 30\n",
      "5* 7= 35\n",
      "5* 8= 40\n",
      "5* 9= 45\n",
      "5* 10= 50\n"
     ]
    }
   ],
   "source": [
    "tableNumber = int(input(\"Enter Table number\"))\n",
    "for a in range(1,11):\n",
    "    print(f\"{tableNumber}* {a}= {tableNumber*a}\")"
   ]
  },
  {
   "cell_type": "code",
   "execution_count": 209,
   "id": "c1214429",
   "metadata": {},
   "outputs": [
    {
     "name": "stdout",
     "output_type": "stream",
     "text": [
      "Enter table5\n",
      "2*1 = 2\n",
      "2*2 = 4\n",
      "2*3 = 6\n",
      "2*4 = 8\n",
      "2*5 = 10\n",
      "2*6 = 12\n",
      "2*7 = 14\n",
      "2*8 = 16\n",
      "2*9 = 18\n",
      "2*10 = 20\n",
      "3*1 = 3\n",
      "3*2 = 6\n",
      "3*3 = 9\n",
      "3*4 = 12\n",
      "3*5 = 15\n",
      "3*6 = 18\n",
      "3*7 = 21\n",
      "3*8 = 24\n",
      "3*9 = 27\n",
      "3*10 = 30\n",
      "4*1 = 4\n",
      "4*2 = 8\n",
      "4*3 = 12\n",
      "4*4 = 16\n",
      "4*5 = 20\n",
      "4*6 = 24\n",
      "4*7 = 28\n",
      "4*8 = 32\n",
      "4*9 = 36\n",
      "4*10 = 40\n",
      "5*1 = 5\n",
      "5*2 = 10\n",
      "5*3 = 15\n",
      "5*4 = 20\n",
      "5*5 = 25\n",
      "5*6 = 30\n",
      "5*7 = 35\n",
      "5*8 = 40\n",
      "5*9 = 45\n",
      "5*10 = 50\n"
     ]
    }
   ],
   "source": [
    "tables = int(input(\"Enter table\"))\n",
    "for table in range(2,tables+1):\n",
    "    for num in range(1,11):\n",
    "        print(f\"{table}*{num} = {table*num}\")"
   ]
  },
  {
   "cell_type": "code",
   "execution_count": 210,
   "id": "3f3f11cc",
   "metadata": {},
   "outputs": [
    {
     "name": "stdout",
     "output_type": "stream",
     "text": [
      "Enter table7\n",
      "7*1 = 7\n",
      "7*2 = 14\n",
      "7*3 = 21\n",
      "7*4 = 28\n",
      "7*5 = 35\n",
      "7*6 = 42\n",
      "7*7 = 49\n",
      "7*8 = 56\n",
      "7*9 = 63\n",
      "7*10 = 70\n"
     ]
    }
   ],
   "source": [
    "tables = int(input(\"Enter table\"))\n",
    "for table in range(7,tables+1):\n",
    "    for num in range(1,11):\n",
    "        print(f\"{table}*{num} = {table*num}\")"
   ]
  },
  {
   "cell_type": "markdown",
   "id": "c3596c96",
   "metadata": {},
   "source": [
    "# Type Casting"
   ]
  },
  {
   "cell_type": "code",
   "execution_count": 212,
   "id": "e788c75f",
   "metadata": {},
   "outputs": [
    {
     "name": "stdout",
     "output_type": "stream",
     "text": [
      "Enter somethingHello\n"
     ]
    },
    {
     "data": {
      "text/plain": [
       "str"
      ]
     },
     "execution_count": 212,
     "metadata": {},
     "output_type": "execute_result"
    }
   ],
   "source": [
    "userInput = input(\"Enter something\")\n",
    "type(userInput)"
   ]
  },
  {
   "cell_type": "code",
   "execution_count": 213,
   "id": "795b699a",
   "metadata": {},
   "outputs": [
    {
     "name": "stdout",
     "output_type": "stream",
     "text": [
      "Enter something56\n"
     ]
    },
    {
     "data": {
      "text/plain": [
       "int"
      ]
     },
     "execution_count": 213,
     "metadata": {},
     "output_type": "execute_result"
    }
   ],
   "source": [
    "userInput = int(input(\"Enter something\"))\n",
    "type(userInput)"
   ]
  },
  {
   "cell_type": "code",
   "execution_count": 214,
   "id": "9d0ff910",
   "metadata": {},
   "outputs": [
    {
     "name": "stdout",
     "output_type": "stream",
     "text": [
      "Enter something3.1415\n"
     ]
    },
    {
     "ename": "ValueError",
     "evalue": "invalid literal for int() with base 10: '3.1415'",
     "output_type": "error",
     "traceback": [
      "\u001b[1;31m---------------------------------------------------------------------------\u001b[0m",
      "\u001b[1;31mValueError\u001b[0m                                Traceback (most recent call last)",
      "Input \u001b[1;32mIn [214]\u001b[0m, in \u001b[0;36m<cell line: 1>\u001b[1;34m()\u001b[0m\n\u001b[1;32m----> 1\u001b[0m userInput \u001b[38;5;241m=\u001b[39m \u001b[38;5;28;43mint\u001b[39;49m\u001b[43m(\u001b[49m\u001b[38;5;28;43minput\u001b[39;49m\u001b[43m(\u001b[49m\u001b[38;5;124;43m\"\u001b[39;49m\u001b[38;5;124;43mEnter something\u001b[39;49m\u001b[38;5;124;43m\"\u001b[39;49m\u001b[43m)\u001b[49m\u001b[43m)\u001b[49m\n\u001b[0;32m      2\u001b[0m \u001b[38;5;28mtype\u001b[39m(userInput)\n",
      "\u001b[1;31mValueError\u001b[0m: invalid literal for int() with base 10: '3.1415'"
     ]
    }
   ],
   "source": [
    "userInput = int(input(\"Enter something\"))\n",
    "type(userInput)"
   ]
  },
  {
   "cell_type": "code",
   "execution_count": 215,
   "id": "bc1392f9",
   "metadata": {},
   "outputs": [
    {
     "name": "stdout",
     "output_type": "stream",
     "text": [
      "Enter something58\n"
     ]
    },
    {
     "data": {
      "text/plain": [
       "int"
      ]
     },
     "execution_count": 215,
     "metadata": {},
     "output_type": "execute_result"
    }
   ],
   "source": [
    "userInput = int(input(\"Enter something\"))\n",
    "type(userInput)"
   ]
  },
  {
   "cell_type": "markdown",
   "id": "f7b6772e",
   "metadata": {},
   "source": [
    "# Changing Case"
   ]
  },
  {
   "cell_type": "code",
   "execution_count": 216,
   "id": "2f2faccd",
   "metadata": {},
   "outputs": [
    {
     "name": "stdout",
     "output_type": "stream",
     "text": [
      "I AM A HUMAN\n"
     ]
    }
   ],
   "source": [
    "str_data = \"I am A HUMAn\"\n",
    "print(str_data.upper())"
   ]
  },
  {
   "cell_type": "code",
   "execution_count": 217,
   "id": "3e71dbcb",
   "metadata": {},
   "outputs": [
    {
     "name": "stdout",
     "output_type": "stream",
     "text": [
      "i am a human\n"
     ]
    }
   ],
   "source": [
    "str_data = \"I am A HUMAn\"\n",
    "print(str_data.lower())"
   ]
  },
  {
   "cell_type": "code",
   "execution_count": 218,
   "id": "706e4d9c",
   "metadata": {},
   "outputs": [
    {
     "name": "stdout",
     "output_type": "stream",
     "text": [
      "I Am A Human\n"
     ]
    }
   ],
   "source": [
    "str_data = \"I am A HUMAn\"\n",
    "print(str_data.title())"
   ]
  },
  {
   "cell_type": "code",
   "execution_count": 219,
   "id": "9bd26396",
   "metadata": {},
   "outputs": [
    {
     "name": "stdout",
     "output_type": "stream",
     "text": [
      "<built-in method lower of str object at 0x000001FA33025F70>\n"
     ]
    }
   ],
   "source": [
    "str_data = \"I am A HUMAn\"\n",
    "print(str_data.lower)"
   ]
  },
  {
   "cell_type": "code",
   "execution_count": 220,
   "id": "11d659f0",
   "metadata": {},
   "outputs": [
    {
     "name": "stdout",
     "output_type": "stream",
     "text": [
      "i am a human\n"
     ]
    }
   ],
   "source": [
    "str_data = \"I am A HUMAn\"\n",
    "print(str_data.lower())"
   ]
  },
  {
   "cell_type": "code",
   "execution_count": 221,
   "id": "e8204bac",
   "metadata": {},
   "outputs": [
    {
     "name": "stdout",
     "output_type": "stream",
     "text": [
      "I AM A HUMAN\n"
     ]
    }
   ],
   "source": [
    "str_data = \"I am A HUMAn\"\n",
    "print(str_data.upper())"
   ]
  },
  {
   "cell_type": "code",
   "execution_count": 222,
   "id": "8fc8feae",
   "metadata": {},
   "outputs": [
    {
     "data": {
      "text/plain": [
       "str"
      ]
     },
     "execution_count": 222,
     "metadata": {},
     "output_type": "execute_result"
    }
   ],
   "source": [
    "name = \"Pakistan\"\n",
    "type(name)"
   ]
  },
  {
   "cell_type": "code",
   "execution_count": 223,
   "id": "05e4f087",
   "metadata": {},
   "outputs": [
    {
     "name": "stdout",
     "output_type": "stream",
     "text": [
      "PAKISTAN\n"
     ]
    }
   ],
   "source": [
    "print(name. upper())"
   ]
  },
  {
   "cell_type": "code",
   "execution_count": 224,
   "id": "bde9f998",
   "metadata": {},
   "outputs": [
    {
     "name": "stdout",
     "output_type": "stream",
     "text": [
      "pakistan\n"
     ]
    }
   ],
   "source": [
    "print(name. lower())"
   ]
  },
  {
   "cell_type": "code",
   "execution_count": 225,
   "id": "f4504e39",
   "metadata": {},
   "outputs": [
    {
     "name": "stdout",
     "output_type": "stream",
     "text": [
      "Pakistan\n"
     ]
    }
   ],
   "source": [
    "print(name. title())"
   ]
  },
  {
   "cell_type": "markdown",
   "id": "76e8151d",
   "metadata": {},
   "source": [
    "# DICTIONARIES"
   ]
  },
  {
   "cell_type": "code",
   "execution_count": 226,
   "id": "7f12b948",
   "metadata": {},
   "outputs": [],
   "source": [
    "student = {\"Name\":\"Nayyer\", \"Roll Number\": \"PIAIC 180996\", \"Student\":\"AI\"}"
   ]
  },
  {
   "cell_type": "code",
   "execution_count": 227,
   "id": "286e59ba",
   "metadata": {},
   "outputs": [
    {
     "name": "stdout",
     "output_type": "stream",
     "text": [
      "{'Name': 'Nayyer', 'Roll Number': 'PIAIC 180996', 'Student': 'AI'}\n"
     ]
    }
   ],
   "source": [
    "print(student)"
   ]
  },
  {
   "cell_type": "code",
   "execution_count": 243,
   "id": "13a53189",
   "metadata": {},
   "outputs": [],
   "source": [
    "student = {\"Name\":\"Nayyer\", \"Roll Number\": \"PIAIC 180996\", \"Student\":\"AI\", \"Age\": \"47\"}"
   ]
  },
  {
   "cell_type": "code",
   "execution_count": 244,
   "id": "a4c97078",
   "metadata": {},
   "outputs": [
    {
     "name": "stdout",
     "output_type": "stream",
     "text": [
      "{'Name': 'Nayyer', 'Roll Number': 'PIAIC 180996', 'Student': 'AI', 'Age': '47'}\n"
     ]
    }
   ],
   "source": [
    "print(student)"
   ]
  },
  {
   "cell_type": "code",
   "execution_count": 230,
   "id": "64027b37",
   "metadata": {},
   "outputs": [
    {
     "data": {
      "text/plain": [
       "3"
      ]
     },
     "execution_count": 230,
     "metadata": {},
     "output_type": "execute_result"
    }
   ],
   "source": [
    "student = {\"Name\":\"Nayyer\", \"Roll Number\": \"PIAIC 180996\", \"Student\":\"AI\"}\n",
    "len(student)"
   ]
  },
  {
   "cell_type": "code",
   "execution_count": 245,
   "id": "a7fed707",
   "metadata": {},
   "outputs": [],
   "source": [
    "student = {\"Name\":\"Nayyer\", \"Roll Number\": \"PIAIC 180996\", \"Student\":\"AI\"}\n",
    "student[\"email\"] = \"abcd@gmail.com\""
   ]
  },
  {
   "cell_type": "code",
   "execution_count": 246,
   "id": "6456b80c",
   "metadata": {},
   "outputs": [
    {
     "data": {
      "text/plain": [
       "{'Name': 'Nayyer',\n",
       " 'Roll Number': 'PIAIC 180996',\n",
       " 'Student': 'AI',\n",
       " 'email': 'abcd@gmail.com'}"
      ]
     },
     "execution_count": 246,
     "metadata": {},
     "output_type": "execute_result"
    }
   ],
   "source": [
    "student"
   ]
  },
  {
   "cell_type": "code",
   "execution_count": 234,
   "id": "9842f946",
   "metadata": {},
   "outputs": [
    {
     "name": "stdout",
     "output_type": "stream",
     "text": [
      "PIAIC 180996\n"
     ]
    }
   ],
   "source": [
    "print(student['Roll Number'])"
   ]
  },
  {
   "cell_type": "code",
   "execution_count": 235,
   "id": "e8ad28db",
   "metadata": {},
   "outputs": [
    {
     "name": "stdout",
     "output_type": "stream",
     "text": [
      "Nayyer\n"
     ]
    }
   ],
   "source": [
    "print(student['Name'])"
   ]
  },
  {
   "cell_type": "code",
   "execution_count": 236,
   "id": "a1b8eea5",
   "metadata": {},
   "outputs": [],
   "source": [
    "student['FatherName'] = 'Munawar Islam'"
   ]
  },
  {
   "cell_type": "code",
   "execution_count": 247,
   "id": "d8418d9b",
   "metadata": {},
   "outputs": [
    {
     "data": {
      "text/plain": [
       "{'Name': 'Nayyer',\n",
       " 'Roll Number': 'PIAIC 180996',\n",
       " 'Student': 'AI',\n",
       " 'email': 'abcd@gmail.com'}"
      ]
     },
     "execution_count": 247,
     "metadata": {},
     "output_type": "execute_result"
    }
   ],
   "source": [
    "student"
   ]
  },
  {
   "cell_type": "code",
   "execution_count": 248,
   "id": "49ca7e2a",
   "metadata": {},
   "outputs": [],
   "source": [
    "student['Hobbies'] = \"Artificial intelligence\""
   ]
  },
  {
   "cell_type": "code",
   "execution_count": 249,
   "id": "fc7cbe56",
   "metadata": {},
   "outputs": [
    {
     "data": {
      "text/plain": [
       "{'Name': 'Nayyer',\n",
       " 'Roll Number': 'PIAIC 180996',\n",
       " 'Student': 'AI',\n",
       " 'email': 'abcd@gmail.com',\n",
       " 'Hobbies': 'Artificial intelligence'}"
      ]
     },
     "execution_count": 249,
     "metadata": {},
     "output_type": "execute_result"
    }
   ],
   "source": [
    "student"
   ]
  },
  {
   "cell_type": "code",
   "execution_count": 250,
   "id": "bf1d6f6d",
   "metadata": {},
   "outputs": [],
   "source": [
    "student[\"Address\"]= \"Lahore\""
   ]
  },
  {
   "cell_type": "code",
   "execution_count": 241,
   "id": "c49346d6",
   "metadata": {},
   "outputs": [
    {
     "data": {
      "text/plain": [
       "{'Name': 'Nayyer',\n",
       " 'Roll Number': 'PIAIC 180996',\n",
       " 'Student': 'AI',\n",
       " 'email': 'abcd@gmail.com',\n",
       " 'FatherName': 'Munawar Islam',\n",
       " 'Hobbies': 'Artificial intelligence',\n",
       " 'Address': 'Lahore'}"
      ]
     },
     "execution_count": 241,
     "metadata": {},
     "output_type": "execute_result"
    }
   ],
   "source": [
    "student"
   ]
  },
  {
   "cell_type": "code",
   "execution_count": 252,
   "id": "48936018",
   "metadata": {},
   "outputs": [
    {
     "data": {
      "text/plain": [
       "'PIAIC 180996'"
      ]
     },
     "execution_count": 252,
     "metadata": {},
     "output_type": "execute_result"
    }
   ],
   "source": [
    "student[\"Roll Number\"]"
   ]
  },
  {
   "cell_type": "code",
   "execution_count": 253,
   "id": "1449b550",
   "metadata": {},
   "outputs": [
    {
     "data": {
      "text/plain": [
       "{'Name': 'Nayyer',\n",
       " 'Roll Number': 'PIAIC 180996',\n",
       " 'Student': 'AI',\n",
       " 'email': 'abcd@gmail.com',\n",
       " 'Hobbies': 'Artificial intelligence',\n",
       " 'Address': 'Lahore'}"
      ]
     },
     "execution_count": 253,
     "metadata": {},
     "output_type": "execute_result"
    }
   ],
   "source": [
    "student"
   ]
  },
  {
   "cell_type": "code",
   "execution_count": 255,
   "id": "c2592efa",
   "metadata": {},
   "outputs": [],
   "source": [
    "del student[\"email\"]"
   ]
  },
  {
   "cell_type": "code",
   "execution_count": 256,
   "id": "475a3e49",
   "metadata": {},
   "outputs": [
    {
     "data": {
      "text/plain": [
       "{'Name': 'Nayyer',\n",
       " 'Roll Number': 'PIAIC 180996',\n",
       " 'Student': 'AI',\n",
       " 'Hobbies': 'Artificial intelligence',\n",
       " 'Address': 'Lahore'}"
      ]
     },
     "execution_count": 256,
     "metadata": {},
     "output_type": "execute_result"
    }
   ],
   "source": [
    "student"
   ]
  },
  {
   "cell_type": "code",
   "execution_count": 258,
   "id": "e30e1855",
   "metadata": {},
   "outputs": [],
   "source": [
    "del student[\"Address\"]"
   ]
  },
  {
   "cell_type": "code",
   "execution_count": 259,
   "id": "f16dba9f",
   "metadata": {},
   "outputs": [
    {
     "data": {
      "text/plain": [
       "{'Name': 'Nayyer',\n",
       " 'Roll Number': 'PIAIC 180996',\n",
       " 'Student': 'AI',\n",
       " 'Hobbies': 'Artificial intelligence'}"
      ]
     },
     "execution_count": 259,
     "metadata": {},
     "output_type": "execute_result"
    }
   ],
   "source": [
    "student"
   ]
  },
  {
   "cell_type": "code",
   "execution_count": 260,
   "id": "117bd1d1",
   "metadata": {},
   "outputs": [],
   "source": [
    "del student[\"Hobbies\"]"
   ]
  },
  {
   "cell_type": "code",
   "execution_count": 261,
   "id": "eed38010",
   "metadata": {},
   "outputs": [
    {
     "data": {
      "text/plain": [
       "{'Name': 'Nayyer', 'Roll Number': 'PIAIC 180996', 'Student': 'AI'}"
      ]
     },
     "execution_count": 261,
     "metadata": {},
     "output_type": "execute_result"
    }
   ],
   "source": [
    "student"
   ]
  },
  {
   "cell_type": "code",
   "execution_count": 265,
   "id": "ec08817f",
   "metadata": {},
   "outputs": [
    {
     "data": {
      "text/plain": [
       "{'Name': 'Nayyer', 'Roll Number': 'PIAIC 180996', 'Student': 'AI'}"
      ]
     },
     "execution_count": 265,
     "metadata": {},
     "output_type": "execute_result"
    }
   ],
   "source": [
    "student"
   ]
  },
  {
   "cell_type": "code",
   "execution_count": 266,
   "id": "8a56a22a",
   "metadata": {},
   "outputs": [
    {
     "data": {
      "text/plain": [
       "False"
      ]
     },
     "execution_count": 266,
     "metadata": {},
     "output_type": "execute_result"
    }
   ],
   "source": [
    "1 in student"
   ]
  },
  {
   "cell_type": "code",
   "execution_count": 267,
   "id": "86b77c89",
   "metadata": {},
   "outputs": [
    {
     "data": {
      "text/plain": [
       "True"
      ]
     },
     "execution_count": 267,
     "metadata": {},
     "output_type": "execute_result"
    }
   ],
   "source": [
    "\"Name\" in student"
   ]
  },
  {
   "cell_type": "code",
   "execution_count": 268,
   "id": "14ce3fba",
   "metadata": {},
   "outputs": [
    {
     "data": {
      "text/plain": [
       "False"
      ]
     },
     "execution_count": 268,
     "metadata": {},
     "output_type": "execute_result"
    }
   ],
   "source": [
    "\"name\" in student"
   ]
  },
  {
   "cell_type": "code",
   "execution_count": null,
   "id": "710973a1",
   "metadata": {},
   "outputs": [],
   "source": []
  }
 ],
 "metadata": {
  "kernelspec": {
   "display_name": "Python 3 (ipykernel)",
   "language": "python",
   "name": "python3"
  },
  "language_info": {
   "codemirror_mode": {
    "name": "ipython",
    "version": 3
   },
   "file_extension": ".py",
   "mimetype": "text/x-python",
   "name": "python",
   "nbconvert_exporter": "python",
   "pygments_lexer": "ipython3",
   "version": "3.9.12"
  }
 },
 "nbformat": 4,
 "nbformat_minor": 5
}
