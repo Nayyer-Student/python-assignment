{
 "cells": [
  {
   "cell_type": "code",
   "execution_count": 1,
   "id": "95bc2f6f",
   "metadata": {},
   "outputs": [],
   "source": [
    "class Journal():\n",
    "    def __init__(self, price):\n",
    "        self.price = price\n",
    "        \n",
    "    def __add__(self, other):\n",
    "        return self.price + other.price"
   ]
  },
  {
   "cell_type": "code",
   "execution_count": 2,
   "id": "f7612064",
   "metadata": {},
   "outputs": [],
   "source": [
    "Journal1 = Journal(800)\n",
    "Journal2 = Journal(950)"
   ]
  },
  {
   "cell_type": "code",
   "execution_count": 3,
   "id": "9e0e5d57",
   "metadata": {},
   "outputs": [
    {
     "name": "stdout",
     "output_type": "stream",
     "text": [
      "1750\n"
     ]
    }
   ],
   "source": [
    "print(Journal1.price + Journal2.price)"
   ]
  },
  {
   "cell_type": "code",
   "execution_count": 5,
   "id": "3ccafd9e",
   "metadata": {},
   "outputs": [
    {
     "name": "stdout",
     "output_type": "stream",
     "text": [
      "1750\n"
     ]
    }
   ],
   "source": [
    "print(Journal1 + Journal2)"
   ]
  },
  {
   "cell_type": "code",
   "execution_count": null,
   "id": "6453f7bf",
   "metadata": {},
   "outputs": [],
   "source": []
  }
 ],
 "metadata": {
  "kernelspec": {
   "display_name": "Python 3 (ipykernel)",
   "language": "python",
   "name": "python3"
  },
  "language_info": {
   "codemirror_mode": {
    "name": "ipython",
    "version": 3
   },
   "file_extension": ".py",
   "mimetype": "text/x-python",
   "name": "python",
   "nbconvert_exporter": "python",
   "pygments_lexer": "ipython3",
   "version": "3.9.12"
  }
 },
 "nbformat": 4,
 "nbformat_minor": 5
}
